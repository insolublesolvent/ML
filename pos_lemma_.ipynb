{
  "nbformat": 4,
  "nbformat_minor": 0,
  "metadata": {
    "colab": {
      "name": "pos_lemma_.ipynb",
      "version": "0.3.2",
      "provenance": []
    },
    "kernelspec": {
      "name": "python3",
      "display_name": "Python 3"
    }
  },
  "cells": [
    {
      "cell_type": "code",
      "metadata": {
        "id": "nI4mHb4EejDN",
        "colab_type": "code",
        "colab": {}
      },
      "source": [
        "import spacy\n",
        "import nltk"
      ],
      "execution_count": 0,
      "outputs": []
    },
    {
      "cell_type": "code",
      "metadata": {
        "id": "NE1oTLpEekmA",
        "colab_type": "code",
        "colab": {}
      },
      "source": [
        "nlp=spacy.load('en')"
      ],
      "execution_count": 0,
      "outputs": []
    },
    {
      "cell_type": "code",
      "metadata": {
        "id": "vx6IIEanepQH",
        "colab_type": "code",
        "colab": {}
      },
      "source": [
        "data=\"hello world its a very rainy day outside what you think what the day is going to be about good or something rediculeous\""
      ],
      "execution_count": 0,
      "outputs": []
    },
    {
      "cell_type": "code",
      "metadata": {
        "id": "L7h9g7jWfQqK",
        "colab_type": "code",
        "colab": {}
      },
      "source": [
        "new_data=nlp(data)#automatic tokenize"
      ],
      "execution_count": 0,
      "outputs": []
    },
    {
      "cell_type": "code",
      "metadata": {
        "id": "P9K9Q3oifRx0",
        "colab_type": "code",
        "colab": {
          "base_uri": "https://localhost:8080/",
          "height": 1000
        },
        "outputId": "9edd37b9-d79f-46d2-926b-87ced805ba51"
      },
      "source": [
        "for i in new_data:\n",
        "    print(i,\" -> lemmatization of word is::\",i.lemma_)\n",
        "    print(i,\"-> POS -> \",i.pos_)\n",
        "    print(\"#####################################################\")"
      ],
      "execution_count": 44,
      "outputs": [
        {
          "output_type": "stream",
          "text": [
            "hello  -> lemmatization of word is:: hello\n",
            "hello -> POS ->  INTJ\n",
            "#####################################################\n",
            "world  -> lemmatization of word is:: world\n",
            "world -> POS ->  VERB\n",
            "#####################################################\n",
            "its  -> lemmatization of word is:: -PRON-\n",
            "its -> POS ->  DET\n",
            "#####################################################\n",
            "a  -> lemmatization of word is:: a\n",
            "a -> POS ->  DET\n",
            "#####################################################\n",
            "very  -> lemmatization of word is:: very\n",
            "very -> POS ->  ADV\n",
            "#####################################################\n",
            "rainy  -> lemmatization of word is:: rainy\n",
            "rainy -> POS ->  ADJ\n",
            "#####################################################\n",
            "day  -> lemmatization of word is:: day\n",
            "day -> POS ->  NOUN\n",
            "#####################################################\n",
            "outside  -> lemmatization of word is:: outside\n",
            "outside -> POS ->  ADP\n",
            "#####################################################\n",
            "what  -> lemmatization of word is:: what\n",
            "what -> POS ->  PRON\n",
            "#####################################################\n",
            "you  -> lemmatization of word is:: -PRON-\n",
            "you -> POS ->  PRON\n",
            "#####################################################\n",
            "think  -> lemmatization of word is:: think\n",
            "think -> POS ->  VERB\n",
            "#####################################################\n",
            "what  -> lemmatization of word is:: what\n",
            "what -> POS ->  PRON\n",
            "#####################################################\n",
            "the  -> lemmatization of word is:: the\n",
            "the -> POS ->  DET\n",
            "#####################################################\n",
            "day  -> lemmatization of word is:: day\n",
            "day -> POS ->  NOUN\n",
            "#####################################################\n",
            "is  -> lemmatization of word is:: be\n",
            "is -> POS ->  VERB\n",
            "#####################################################\n",
            "going  -> lemmatization of word is:: go\n",
            "going -> POS ->  VERB\n",
            "#####################################################\n",
            "to  -> lemmatization of word is:: to\n",
            "to -> POS ->  PART\n",
            "#####################################################\n",
            "be  -> lemmatization of word is:: be\n",
            "be -> POS ->  VERB\n",
            "#####################################################\n",
            "about  -> lemmatization of word is:: about\n",
            "about -> POS ->  ADP\n",
            "#####################################################\n",
            "good  -> lemmatization of word is:: good\n",
            "good -> POS ->  ADJ\n",
            "#####################################################\n",
            "or  -> lemmatization of word is:: or\n",
            "or -> POS ->  CCONJ\n",
            "#####################################################\n",
            "something  -> lemmatization of word is:: something\n",
            "something -> POS ->  NOUN\n",
            "#####################################################\n",
            "rediculeous  -> lemmatization of word is:: rediculeous\n",
            "rediculeous -> POS ->  ADJ\n",
            "#####################################################\n"
          ],
          "name": "stdout"
        }
      ]
    },
    {
      "cell_type": "code",
      "metadata": {
        "id": "YH5Kl314fYA-",
        "colab_type": "code",
        "colab": {}
      },
      "source": [
        "from nltk.corpus import wordnet"
      ],
      "execution_count": 0,
      "outputs": []
    },
    {
      "cell_type": "code",
      "metadata": {
        "id": "9v49PR2ehVUk",
        "colab_type": "code",
        "colab": {
          "base_uri": "https://localhost:8080/",
          "height": 585
        },
        "outputId": "a4bddb5b-7359-45dc-fa77-1d088790aac0"
      },
      "source": [
        "ws=wordnet.synsets('work')\n",
        "ws"
      ],
      "execution_count": 48,
      "outputs": [
        {
          "output_type": "execute_result",
          "data": {
            "text/plain": [
              "[Synset('work.n.01'),\n",
              " Synset('work.n.02'),\n",
              " Synset('employment.n.02'),\n",
              " Synset('study.n.02'),\n",
              " Synset('work.n.05'),\n",
              " Synset('workplace.n.01'),\n",
              " Synset('oeuvre.n.01'),\n",
              " Synset('work.v.01'),\n",
              " Synset('work.v.02'),\n",
              " Synset('work.v.03'),\n",
              " Synset('function.v.01'),\n",
              " Synset('work.v.05'),\n",
              " Synset('exercise.v.03'),\n",
              " Synset('make.v.36'),\n",
              " Synset('work.v.08'),\n",
              " Synset('work.v.09'),\n",
              " Synset('work.v.10'),\n",
              " Synset('bring.v.03'),\n",
              " Synset('work.v.12'),\n",
              " Synset('cultivate.v.02'),\n",
              " Synset('work.v.14'),\n",
              " Synset('influence.v.01'),\n",
              " Synset('work.v.16'),\n",
              " Synset('work.v.17'),\n",
              " Synset('work.v.18'),\n",
              " Synset('work.v.19'),\n",
              " Synset('shape.v.02'),\n",
              " Synset('work.v.21'),\n",
              " Synset('knead.v.01'),\n",
              " Synset('exploit.v.01'),\n",
              " Synset('solve.v.01'),\n",
              " Synset('ferment.v.03'),\n",
              " Synset('sour.v.01'),\n",
              " Synset('work.v.27')]"
            ]
          },
          "metadata": {
            "tags": []
          },
          "execution_count": 48
        }
      ]
    },
    {
      "cell_type": "code",
      "metadata": {
        "id": "ZYvOifZLhZXD",
        "colab_type": "code",
        "colab": {}
      },
      "source": [
        ""
      ],
      "execution_count": 0,
      "outputs": []
    }
  ]
}