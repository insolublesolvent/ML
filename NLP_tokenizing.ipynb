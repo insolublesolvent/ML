{
  "nbformat": 4,
  "nbformat_minor": 0,
  "metadata": {
    "colab": {
      "name": "NLP_tokenizing.ipynb",
      "version": "0.3.2",
      "provenance": [],
      "collapsed_sections": [],
      "include_colab_link": true
    },
    "kernelspec": {
      "name": "python3",
      "display_name": "Python 3"
    }
  },
  "cells": [
    {
      "cell_type": "markdown",
      "metadata": {
        "id": "view-in-github",
        "colab_type": "text"
      },
      "source": [
        "<a href=\"https://colab.research.google.com/github/insolublesolvent/ML/blob/master/NLP_tokenizing.ipynb\" target=\"_parent\"><img src=\"https://colab.research.google.com/assets/colab-badge.svg\" alt=\"Open In Colab\"/></a>"
      ]
    },
    {
      "cell_type": "code",
      "metadata": {
        "id": "FzrHfUZUQPeT",
        "colab_type": "code",
        "colab": {}
      },
      "source": [
        "msg ='''\n",
        "thou shall not kill what is pure.\n",
        "thou shall not commit adultry.\n",
        "to wassup guys  and whats cooking.\n",
        "this is a sunny morning for all isn't it.\n",
        "for all those who don't know me go to hell.\n",
        "have a nice day.\n",
        "may the unholy blessings of the devil , the destruction and wrath be upon you.\n",
        "'''"
      ],
      "execution_count": 0,
      "outputs": []
    },
    {
      "cell_type": "code",
      "metadata": {
        "id": "9Nw2I5K2VKIX",
        "colab_type": "code",
        "colab": {
          "base_uri": "https://localhost:8080/",
          "height": 50
        },
        "outputId": "bb6452ee-8ce2-44e6-c8fa-2147450637fb"
      },
      "source": [
        "import nltk\n",
        "nltk.download('punkt')\n",
        "#import tokenizers\n",
        "from nltk.tokenize import sent_tokenize\n",
        "from nltk.tokenize import word_tokenize"
      ],
      "execution_count": 38,
      "outputs": [
        {
          "output_type": "stream",
          "text": [
            "[nltk_data] Downloading package punkt to /root/nltk_data...\n",
            "[nltk_data]   Package punkt is already up-to-date!\n"
          ],
          "name": "stdout"
        }
      ]
    },
    {
      "cell_type": "code",
      "metadata": {
        "id": "mxBTaCkeXoA3",
        "colab_type": "code",
        "colab": {}
      },
      "source": [
        "#applying  sentence tokenize\n",
        "sent=sent_tokenize(msg)"
      ],
      "execution_count": 0,
      "outputs": []
    },
    {
      "cell_type": "code",
      "metadata": {
        "id": "HC6CpK99Xu5M",
        "colab_type": "code",
        "outputId": "86c8b3f2-ea14-452f-9bdb-96fd9d2c1059",
        "colab": {
          "base_uri": "https://localhost:8080/",
          "height": 134
        }
      },
      "source": [
        "sent"
      ],
      "execution_count": 40,
      "outputs": [
        {
          "output_type": "execute_result",
          "data": {
            "text/plain": [
              "['\\nthou shall not kill what is pure.',\n",
              " 'thou shall not commit adultry.',\n",
              " 'to wassup guys  and whats cooking.',\n",
              " \"this is a sunny morning for all isn't it.\",\n",
              " \"for all those who don't know me go to hell.\",\n",
              " 'have a nice day.',\n",
              " 'may the unholy blessings of the devil , the destruction and wrath be upon you.']"
            ]
          },
          "metadata": {
            "tags": []
          },
          "execution_count": 40
        }
      ]
    },
    {
      "cell_type": "code",
      "metadata": {
        "id": "CqRki1erXwHl",
        "colab_type": "code",
        "outputId": "c9c3dd97-455b-47e0-879e-9c5004a9dd40",
        "colab": {
          "base_uri": "https://localhost:8080/",
          "height": 33
        }
      },
      "source": [
        "#number of sentence\n",
        "len(sent)\n"
      ],
      "execution_count": 41,
      "outputs": [
        {
          "output_type": "execute_result",
          "data": {
            "text/plain": [
              "7"
            ]
          },
          "metadata": {
            "tags": []
          },
          "execution_count": 41
        }
      ]
    },
    {
      "cell_type": "code",
      "metadata": {
        "id": "nxMReLQ-YJv1",
        "colab_type": "code",
        "outputId": "b5f4fb7b-d434-46d0-86b3-544f455b8281",
        "colab": {
          "base_uri": "https://localhost:8080/",
          "height": 33
        }
      },
      "source": [
        "#now tokenizing by words\n",
        "word=word_tokenize(msg)\n",
        "len(word)"
      ],
      "execution_count": 42,
      "outputs": [
        {
          "output_type": "execute_result",
          "data": {
            "text/plain": [
              "65"
            ]
          },
          "metadata": {
            "tags": []
          },
          "execution_count": 42
        }
      ]
    },
    {
      "cell_type": "code",
      "metadata": {
        "id": "1ihZrgViYYn5",
        "colab_type": "code",
        "colab": {}
      },
      "source": [
        "#stopword removal\n",
        "from nltk.corpus import stopwords"
      ],
      "execution_count": 0,
      "outputs": []
    },
    {
      "cell_type": "code",
      "metadata": {
        "id": "JsKSAjAtYryR",
        "colab_type": "code",
        "colab": {}
      },
      "source": [
        "#removing stopworda from actual word\n",
        "new_word=[i for i in word if i.lower() not in stopwords.words('english')]"
      ],
      "execution_count": 0,
      "outputs": []
    },
    {
      "cell_type": "code",
      "metadata": {
        "id": "X8KFg0UxZDfw",
        "colab_type": "code",
        "colab": {
          "base_uri": "https://localhost:8080/",
          "height": 33
        },
        "outputId": "46b89f76-bf49-4c03-9e1d-6d63a03e69e0"
      },
      "source": [
        "len(new_word)"
      ],
      "execution_count": 45,
      "outputs": [
        {
          "output_type": "execute_result",
          "data": {
            "text/plain": [
              "36"
            ]
          },
          "metadata": {
            "tags": []
          },
          "execution_count": 45
        }
      ]
    },
    {
      "cell_type": "code",
      "metadata": {
        "id": "vsDflVnhZFMj",
        "colab_type": "code",
        "colab": {}
      },
      "source": [
        "#graphs\n",
        "import nltk\n",
        "import matplotlib.pyplot as plt"
      ],
      "execution_count": 0,
      "outputs": []
    },
    {
      "cell_type": "code",
      "metadata": {
        "id": "GNk9C6usZVxk",
        "colab_type": "code",
        "colab": {
          "base_uri": "https://localhost:8080/",
          "height": 329
        },
        "outputId": "c01f6c94-123c-4390-df5a-2c59f68c8df8"
      },
      "source": [
        "nlp=nltk.FreqDist(word)\n",
        "nlp.plot()"
      ],
      "execution_count": 47,
      "outputs": [
        {
          "output_type": "display_data",
          "data": {
            "image/png": "[encoded data removed]",
            "text/plain": [
              "<Figure size 432x288 with 1 Axes>"
            ]
          },
          "metadata": {
            "tags": []
          }
        }
      ]
    },
    {
      "cell_type": "code",
      "metadata": {
        "id": "Kd1jOfScZ0OW",
        "colab_type": "code",
        "colab": {
          "base_uri": "https://localhost:8080/",
          "height": 329
        },
        "outputId": "66a84059-7725-42a8-d7cd-fd2a232eac22"
      },
      "source": [
        "nlp1=nltk.FreqDist(new_word)\n",
        "nlp.plot()"
      ],
      "execution_count": 48,
      "outputs": [
        {
          "output_type": "display_data",
          "data": {
            "image/png": "[encoded data removed]",
            "text/plain": [
              "<Figure size 432x288 with 1 Axes>"
            ]
          },
          "metadata": {
            "tags": []
          }
        }
      ]
    },
    {
      "cell_type": "code",
      "metadata": {
        "id": "KoSr7QR9Z65S",
        "colab_type": "code",
        "colab": {}
      },
      "source": [
        ""
      ],
      "execution_count": 0,
      "outputs": []
    }
  ]
}