{
  "nbformat": 4,
  "nbformat_minor": 0,
  "metadata": {
    "colab": {
      "name": "knniris.py",
      "version": "0.3.2",
      "provenance": [],
      "include_colab_link": true
    },
    "kernelspec": {
      "name": "python3",
      "display_name": "Python 3"
    }
  },
  "cells": [
    {
      "cell_type": "markdown",
      "metadata": {
        "id": "view-in-github",
        "colab_type": "text"
      },
      "source": [
        "<a href=\"https://colab.research.google.com/github/insolublesolvent/ML/blob/master/knniris_py.ipynb\" target=\"_parent\"><img src=\"https://colab.research.google.com/assets/colab-badge.svg\" alt=\"Open In Colab\"/></a>"
      ]
    },
    {
      "cell_type": "code",
      "metadata": {
        "id": "ee5t5YQ4VjVd",
        "colab_type": "code",
        "colab": {}
      },
      "source": [
        "#load iris data set\n",
        "from sklearn.datasets import load_iris\n"
      ],
      "execution_count": 0,
      "outputs": []
    },
    {
      "cell_type": "code",
      "metadata": {
        "id": "uGKYCCSygAJB",
        "colab_type": "code",
        "colab": {}
      },
      "source": [
        "#load into variable\n",
        "iris_data=load_iris()"
      ],
      "execution_count": 0,
      "outputs": []
    },
    {
      "cell_type": "code",
      "metadata": {
        "id": "XTYnf-RegLNb",
        "colab_type": "code",
        "colab": {
          "base_uri": "https://localhost:8080/",
          "height": 34
        },
        "outputId": "77063f95-e39e-47a0-91e1-462feedfa742"
      },
      "source": [
        "#describing iris_data internally\n",
        "dir(iris_data)"
      ],
      "execution_count": 48,
      "outputs": [
        {
          "output_type": "execute_result",
          "data": {
            "text/plain": [
              "['DESCR', 'data', 'feature_names', 'filename', 'target', 'target_names']"
            ]
          },
          "metadata": {
            "tags": []
          },
          "execution_count": 48
        }
      ]
    },
    {
      "cell_type": "code",
      "metadata": {
        "id": "jIapTLrpgg_L",
        "colab_type": "code",
        "colab": {
          "base_uri": "https://localhost:8080/",
          "height": 34
        },
        "outputId": "519f032b-b6e1-4fa6-8329-c9ca0bbe8f42"
      },
      "source": [
        "#target output values\n",
        "iris_data.target_names"
      ],
      "execution_count": 49,
      "outputs": [
        {
          "output_type": "execute_result",
          "data": {
            "text/plain": [
              "array(['setosa', 'versicolor', 'virginica'], dtype='<U10')"
            ]
          },
          "metadata": {
            "tags": []
          },
          "execution_count": 49
        }
      ]
    },
    {
      "cell_type": "code",
      "metadata": {
        "id": "hTHtFocFgt7C",
        "colab_type": "code",
        "colab": {
          "base_uri": "https://localhost:8080/",
          "height": 86
        },
        "outputId": "9b2d3337-902e-44a0-f854-7c5662f0d55a"
      },
      "source": [
        "#attributes of features of given data\n",
        "iris_data.feature_names"
      ],
      "execution_count": 50,
      "outputs": [
        {
          "output_type": "execute_result",
          "data": {
            "text/plain": [
              "['sepal length (cm)',\n",
              " 'sepal width (cm)',\n",
              " 'petal length (cm)',\n",
              " 'petal width (cm)']"
            ]
          },
          "metadata": {
            "tags": []
          },
          "execution_count": 50
        }
      ]
    },
    {
      "cell_type": "code",
      "metadata": {
        "id": "NokiUr6yg6cS",
        "colab_type": "code",
        "colab": {}
      },
      "source": [
        "#data with attributes\n",
        "iris_features=iris_data.data"
      ],
      "execution_count": 0,
      "outputs": []
    },
    {
      "cell_type": "code",
      "metadata": {
        "id": "wchnI6WfhH_B",
        "colab_type": "code",
        "colab": {}
      },
      "source": [
        "#extracting label as per features\n",
        "label=iris_data.target"
      ],
      "execution_count": 0,
      "outputs": []
    },
    {
      "cell_type": "code",
      "metadata": {
        "id": "L7F5J92UhTgg",
        "colab_type": "code",
        "colab": {}
      },
      "source": [
        "#seperating data into training and testing data\n",
        "from sklearn.model_selection import train_test_split\n"
      ],
      "execution_count": 0,
      "outputs": []
    },
    {
      "cell_type": "code",
      "metadata": {
        "id": "l3CbFODbh-Ql",
        "colab_type": "code",
        "colab": {}
      },
      "source": [
        "#help(train_test_split) to know more about this function\n",
        "train_data,test_data,train_label,test_label=train_test_split(iris_features,label,test_size=0.2,random_state=0)"
      ],
      "execution_count": 0,
      "outputs": []
    },
    {
      "cell_type": "code",
      "metadata": {
        "id": "jPwjL3e4i5Kb",
        "colab_type": "code",
        "colab": {}
      },
      "source": [
        "#importing knn classifier\n",
        "from sklearn.neighbors import KNeighborsClassifier"
      ],
      "execution_count": 0,
      "outputs": []
    },
    {
      "cell_type": "code",
      "metadata": {
        "id": "3ZhP1yTLkRcq",
        "colab_type": "code",
        "colab": {}
      },
      "source": [
        "#now calling knn classifier\n",
        "kclf=KNeighborsClassifier(n_neighbors=5)#this is by default value of n_neighbor\n",
        "                    "
      ],
      "execution_count": 0,
      "outputs": []
    },
    {
      "cell_type": "code",
      "metadata": {
        "id": "MB1dHtdQkxex",
        "colab_type": "code",
        "colab": {}
      },
      "source": [
        "#applying training data\n",
        "k_trained=kclf.fit(train_data,train_label)"
      ],
      "execution_count": 0,
      "outputs": []
    },
    {
      "cell_type": "code",
      "metadata": {
        "id": "TnT-1REolHu7",
        "colab_type": "code",
        "colab": {
          "base_uri": "https://localhost:8080/",
          "height": 52
        },
        "outputId": "a313fb11-b679-4269-be74-d1a0e8dfb0e0"
      },
      "source": [
        "#time for predictions\n",
        "predict_output=k_trained.predict(test_data)\n",
        "print(predict_output)#predicted\n",
        "print(test_label)#actual\n"
      ],
      "execution_count": 58,
      "outputs": [
        {
          "output_type": "stream",
          "text": [
            "[2 1 0 2 0 2 0 1 1 1 2 1 1 1 2 0 1 1 0 0 2 1 0 0 2 0 0 1 1 0]\n",
            "[2 1 0 2 0 2 0 1 1 1 2 1 1 1 1 0 1 1 0 0 2 1 0 0 2 0 0 1 1 0]\n"
          ],
          "name": "stdout"
        }
      ]
    },
    {
      "cell_type": "code",
      "metadata": {
        "id": "Po7lavU-lVyF",
        "colab_type": "code",
        "colab": {
          "base_uri": "https://localhost:8080/",
          "height": 34
        },
        "outputId": "e0f84503-b8fe-42d2-c6ed-19ad17ff1cae"
      },
      "source": [
        "#calculating accuracy score\n",
        "from sklearn.metrics import accuracy_score\n",
        "acr=accuracy_score(test_label,predict_output)#accuracy of predicted v/s actual\n",
        "print(acr)"
      ],
      "execution_count": 59,
      "outputs": [
        {
          "output_type": "stream",
          "text": [
            "0.9666666666666667\n"
          ],
          "name": "stdout"
        }
      ]
    },
    {
      "cell_type": "code",
      "metadata": {
        "id": "wayc_e-xlxD7",
        "colab_type": "code",
        "colab": {}
      },
      "source": [
        "#calling decision tree clf\n",
        "from sklearn.tree import DecisionTreeClassifier\n",
        "dclf=DecisionTreeClassifier()"
      ],
      "execution_count": 0,
      "outputs": []
    },
    {
      "cell_type": "code",
      "metadata": {
        "id": "rWST7w3TmYh_",
        "colab_type": "code",
        "colab": {}
      },
      "source": [
        "#train decision tree\n",
        "d_trained=dclf.fit(train_data,train_label)"
      ],
      "execution_count": 0,
      "outputs": []
    },
    {
      "cell_type": "code",
      "metadata": {
        "id": "TdZcrxXPmgEM",
        "colab_type": "code",
        "colab": {
          "base_uri": "https://localhost:8080/",
          "height": 34
        },
        "outputId": "53bce05d-71af-460a-81aa-87f8a7f1bca1"
      },
      "source": [
        "#predicting\n",
        "d_prediction=d_trained.predict(test_data)\n",
        "print(d_prediction)"
      ],
      "execution_count": 62,
      "outputs": [
        {
          "output_type": "stream",
          "text": [
            "[2 1 0 2 0 2 0 1 1 1 2 1 1 1 1 0 1 1 0 0 2 1 0 0 2 0 0 1 1 0]\n"
          ],
          "name": "stdout"
        }
      ]
    },
    {
      "cell_type": "code",
      "metadata": {
        "id": "A_q5Ct_tm0xs",
        "colab_type": "code",
        "colab": {
          "base_uri": "https://localhost:8080/",
          "height": 34
        },
        "outputId": "be2968ff-f6d1-4a29-8ff8-d82651548f93"
      },
      "source": [
        "#accuracy check for decision tree clf\n",
        "dacr=accuracy_score(test_label,d_prediction)\n",
        "print(dacr)"
      ],
      "execution_count": 63,
      "outputs": [
        {
          "output_type": "stream",
          "text": [
            "1.0\n"
          ],
          "name": "stdout"
        }
      ]
    },
    {
      "cell_type": "code",
      "metadata": {
        "id": "SyMx-0Erm_BM",
        "colab_type": "code",
        "colab": {}
      },
      "source": [
        ""
      ],
      "execution_count": 0,
      "outputs": []
    }
  ]
}