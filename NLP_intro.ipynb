{
  "nbformat": 4,
  "nbformat_minor": 0,
  "metadata": {
    "colab": {
      "name": "NLP_intro.ipynb",
      "version": "0.3.2",
      "provenance": [],
      "collapsed_sections": [],
      "include_colab_link": true
    },
    "kernelspec": {
      "name": "python3",
      "display_name": "Python 3"
    }
  },
  "cells": [
    {
      "cell_type": "markdown",
      "metadata": {
        "id": "view-in-github",
        "colab_type": "text"
      },
      "source": [
        "<a href=\"https://colab.research.google.com/github/insolublesolvent/ML/blob/master/NLP_intro.ipynb\" target=\"_parent\"><img src=\"https://colab.research.google.com/assets/colab-badge.svg\" alt=\"Open In Colab\"/></a>"
      ]
    },
    {
      "cell_type": "code",
      "metadata": {
        "id": "oN5a0EaE3oLT",
        "colab_type": "code",
        "outputId": "92c651ec-fd73-4042-e5d2-aa151efd63a8",
        "colab": {
          "base_uri": "https://localhost:8080/",
          "height": 67
        }
      },
      "source": [
        "from bs4 import BeautifulSoup\n",
        "import requests\n",
        "#to seperate normal and words for sentiments\n",
        "import nltk\n",
        "nltk.download('stopwords')"
      ],
      "execution_count": 0,
      "outputs": [
        {
          "output_type": "stream",
          "text": [
            "[nltk_data] Downloading package stopwords to /root/nltk_data...\n",
            "[nltk_data]   Package stopwords is already up-to-date!\n"
          ],
          "name": "stdout"
        },
        {
          "output_type": "execute_result",
          "data": {
            "text/plain": [
              "True"
            ]
          },
          "metadata": {
            "tags": []
          },
          "execution_count": 31
        }
      ]
    },
    {
      "cell_type": "code",
      "metadata": {
        "id": "LhD6eSET-UaL",
        "colab_type": "code",
        "outputId": "c139bc60-80bd-4bee-fc50-1d3ebf5feca7",
        "colab": {
          "base_uri": "https://localhost:8080/",
          "height": 33
        }
      },
      "source": [
        "#stopwords.words('english')\n",
        "#accessing web url\n",
        "web_data=requests.get('https://en.wikipedia.org/wiki/Ghost')\n",
        "web_data#response code of http protocol\n",
        "#200-means url is ok\n",
        "#302-means url is redirected\n",
        "#404-means url not found\n",
        "#505-means server not permitting for web scrapping"
      ],
      "execution_count": 0,
      "outputs": [
        {
          "output_type": "execute_result",
          "data": {
            "text/plain": [
              "<Response [200]>"
            ]
          },
          "metadata": {
            "tags": []
          },
          "execution_count": 45
        }
      ]
    },
    {
      "cell_type": "code",
      "metadata": {
        "id": "BdYKaHug_CEV",
        "colab_type": "code",
        "colab": {}
      },
      "source": [
        "#now get actual data of any website /url\n",
        "html_data=web_data.text\n",
        "#html_data"
      ],
      "execution_count": 0,
      "outputs": []
    },
    {
      "cell_type": "code",
      "metadata": {
        "id": "-WmjdXLXFCBa",
        "colab_type": "code",
        "outputId": "13b69b19-3005-4459-fae3-dd04d9e84e72",
        "colab": {
          "base_uri": "https://localhost:8080/",
          "height": 33
        }
      },
      "source": [
        "#parsing            html data , parser \n",
        "soup=BeautifulSoup(html_data,'lxml')\n",
        "type(soup)"
      ],
      "execution_count": 0,
      "outputs": [
        {
          "output_type": "execute_result",
          "data": {
            "text/plain": [
              "bs4.BeautifulSoup"
            ]
          },
          "metadata": {
            "tags": []
          },
          "execution_count": 47
        }
      ]
    },
    {
      "cell_type": "code",
      "metadata": {
        "id": "Q69XRmhEG00l",
        "colab_type": "code",
        "colab": {}
      },
      "source": [
        "#finding all data\n",
        "clean_data=soup.get_text()\n",
        "#print(clean_data)"
      ],
      "execution_count": 0,
      "outputs": []
    },
    {
      "cell_type": "code",
      "metadata": {
        "id": "pXFoiBTaHPA9",
        "colab_type": "code",
        "colab": {}
      },
      "source": [
        "#saving data permanently\n",
        "with open('mywebdata.txt','w+') as f:\n",
        "  f.write(clean_data)"
      ],
      "execution_count": 0,
      "outputs": []
    },
    {
      "cell_type": "code",
      "metadata": {
        "id": "AHAl0FwlH9H5",
        "colab_type": "code",
        "colab": {}
      },
      "source": [
        "#read from a file\n",
        "f=open('mywebdata.txt','r')\n",
        "mydata=f.read()\n",
        "f.close()"
      ],
      "execution_count": 0,
      "outputs": []
    },
    {
      "cell_type": "code",
      "metadata": {
        "id": "H51Db0Q2Ikg9",
        "colab_type": "code",
        "outputId": "d25610f9-4fd1-4971-ae8b-424fc84b5dd1",
        "colab": {
          "base_uri": "https://localhost:8080/",
          "height": 33
        }
      },
      "source": [
        "type(mydata)"
      ],
      "execution_count": 0,
      "outputs": [
        {
          "output_type": "execute_result",
          "data": {
            "text/plain": [
              "str"
            ]
          },
          "metadata": {
            "tags": []
          },
          "execution_count": 52
        }
      ]
    },
    {
      "cell_type": "code",
      "metadata": {
        "id": "u6uyiXX5IzoP",
        "colab_type": "code",
        "colab": {}
      },
      "source": [
        "#split\n",
        "import time\n",
        "new_data1=[i for i in mydata.split()] #split all string data by \\n"
      ],
      "execution_count": 0,
      "outputs": []
    },
    {
      "cell_type": "code",
      "metadata": {
        "id": "QkZv6oI0I9YI",
        "colab_type": "code",
        "colab": {}
      },
      "source": [
        "#NLTK graphs\n",
        "import matplotlib.pyplot as plt\n",
        "#-- %matplotlib inline #in case matplotlib not supporting by default with pandas or nltk\n",
        "#to replace plt.show() from any platform"
      ],
      "execution_count": 0,
      "outputs": []
    },
    {
      "cell_type": "code",
      "metadata": {
        "id": "9P4ZRemMKG_n",
        "colab_type": "code",
        "outputId": "2bd40f48-a928-4ea8-a2da-8d11782db8a8",
        "colab": {
          "base_uri": "https://localhost:8080/",
          "height": 33
        }
      },
      "source": [
        "[i for i in dir(nltk) if 'Freq' in i]"
      ],
      "execution_count": 0,
      "outputs": [
        {
          "output_type": "execute_result",
          "data": {
            "text/plain": [
              "['ConditionalFreqDist', 'FreqDist']"
            ]
          },
          "metadata": {
            "tags": []
          },
          "execution_count": 63
        }
      ]
    },
    {
      "cell_type": "code",
      "metadata": {
        "id": "XsrIBArIKJAW",
        "colab_type": "code",
        "colab": {}
      },
      "source": [
        "nlp_data=nltk.FreqDist(new_data1)"
      ],
      "execution_count": 0,
      "outputs": []
    },
    {
      "cell_type": "code",
      "metadata": {
        "id": "IWkZF2W-K7lV",
        "colab_type": "code",
        "outputId": "dba07834-b9bc-470c-ac52-6da667c1b767",
        "colab": {
          "base_uri": "https://localhost:8080/",
          "height": 305
        }
      },
      "source": [
        "nlp_data.plot(20)"
      ],
      "execution_count": 0,
      "outputs": [
        {
          "output_type": "display_data",
          "data": {
            "image/png": "[encoded data removed]",
            "text/plain": [
              "<Figure size 432x288 with 1 Axes>"
            ]
          },
          "metadata": {
            "tags": []
          }
        }
      ]
    },
    {
      "cell_type": "code",
      "metadata": {
        "id": "2jrxGW9lLAsf",
        "colab_type": "code",
        "colab": {}
      },
      "source": [
        "#we can remove stop words from newdata1 then plot the graph\n",
        "from nltk.corpus import stopwords\n",
        "#removing stopwords \n",
        "removed_data=[i for i in new_data1 if i not in stopwords.words('english')]"
      ],
      "execution_count": 0,
      "outputs": []
    },
    {
      "cell_type": "code",
      "metadata": {
        "id": "i0P6NQeWLdcP",
        "colab_type": "code",
        "colab": {}
      },
      "source": [
        "#applying NLTK FreqDist\n",
        "nlpremove=nltk.FreqDist(removed_data)"
      ],
      "execution_count": 0,
      "outputs": []
    },
    {
      "cell_type": "code",
      "metadata": {
        "id": "cwHlCU2rMfnw",
        "colab_type": "code",
        "colab": {
          "base_uri": "https://localhost:8080/",
          "height": 326
        },
        "outputId": "2f12cd44-43f7-4056-edb3-5d3481f7a189"
      },
      "source": [
        "nlpremove.plot(20)"
      ],
      "execution_count": 71,
      "outputs": [
        {
          "output_type": "display_data",
          "data": {
            "image/png": "[encoded data removed]",
            "text/plain": [
              "<Figure size 432x288 with 1 Axes>"
            ]
          },
          "metadata": {
            "tags": []
          }
        }
      ]
    },
    {
      "cell_type": "code",
      "metadata": {
        "id": "BTS49dv8MlBX",
        "colab_type": "code",
        "colab": {}
      },
      "source": [
        ""
      ],
      "execution_count": 0,
      "outputs": []
    }
  ]
}