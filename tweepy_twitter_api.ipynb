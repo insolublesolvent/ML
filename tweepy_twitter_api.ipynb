{
  "nbformat": 4,
  "nbformat_minor": 0,
  "metadata": {
    "colab": {
      "name": "tweepy_twitter_api.ipynb",
      "version": "0.3.2",
      "provenance": []
    },
    "kernelspec": {
      "name": "python3",
      "display_name": "Python 3"
    }
  },
  "cells": [
    {
      "cell_type": "code",
      "metadata": {
        "id": "aiFZ2j8hJGzU",
        "colab_type": "code",
        "colab": {}
      },
      "source": [
        "import tweepy\n",
        "import matplotlib.pyplot as plt\n",
        "import time\n",
        "from textblob import TextBlob"
      ],
      "execution_count": 0,
      "outputs": []
    },
    {
      "cell_type": "code",
      "metadata": {
        "id": "DG-p9lfeJXWv",
        "colab_type": "code",
        "colab": {}
      },
      "source": [
        "#all 4 authentication key to access twitter API\n",
        "# to connect as OATH handler or jump server/reverse proxy server\n",
        "consumer_key='kZADq17e01p6ILN0u3vdgU1DH'\n",
        "consumer_sec='7bKnY3aGD1LZIDWbS6tVzru8zFZNV492oN9I51g7b6HctxC8Kb'"
      ],
      "execution_count": 0,
      "outputs": []
    },
    {
      "cell_type": "code",
      "metadata": {
        "id": "sKt29_fxJZ0q",
        "colab_type": "code",
        "colab": {}
      },
      "source": [
        "#from proxy server we need to connect to web server to twitter\n",
        "access_token='266449908-riSJfN9LFhHcRlm2NNkaA2EA30JGHEZf5rBnJPZR'\n",
        "access_sec='BZVZx7nxSAYbsYkpCnPQLpVVlQyFMFIaZ2T49vSbPFasE'"
      ],
      "execution_count": 0,
      "outputs": []
    },
    {
      "cell_type": "code",
      "metadata": {
        "id": "AQ6p3sC7Jcds",
        "colab_type": "code",
        "colab": {}
      },
      "source": [
        "#tweepy explore --\n",
        "#connecting to jump server of twitter\n",
        "auth=tweepy.OAuthHandler(consumer_key,consumer_sec)"
      ],
      "execution_count": 0,
      "outputs": []
    },
    {
      "cell_type": "code",
      "metadata": {
        "id": "6VCPdENDJfoW",
        "colab_type": "code",
        "colab": {}
      },
      "source": [
        "#now we cam connect from jump server to web server of twitter\n",
        "auth.set_access_token(access_token,access_sec)"
      ],
      "execution_count": 0,
      "outputs": []
    },
    {
      "cell_type": "code",
      "metadata": {
        "id": "iloHFtwcJnIm",
        "colab_type": "code",
        "colab": {}
      },
      "source": [
        "#now we can connect to api storage server of twitter\n",
        "api_connect=tweepy.API(auth)"
      ],
      "execution_count": 0,
      "outputs": []
    },
    {
      "cell_type": "code",
      "metadata": {
        "id": "iF9LfGOcJpP_",
        "colab_type": "code",
        "colab": {}
      },
      "source": [
        "#now we can connect to api storage server of twitter\n",
        "api_connect=tweepy.API(auth)"
      ],
      "execution_count": 0,
      "outputs": []
    },
    {
      "cell_type": "code",
      "metadata": {
        "id": "Fq4t6Mb4J56s",
        "colab_type": "code",
        "colab": {}
      },
      "source": [
        "# now you can search any topic on twitter\n",
        "tweet_data=api_connect.search('modi',count=30)"
      ],
      "execution_count": 0,
      "outputs": []
    },
    {
      "cell_type": "code",
      "metadata": {
        "id": "42jWAIenJr9Z",
        "colab_type": "code",
        "colab": {
          "base_uri": "https://localhost:8080/",
          "height": 834
        },
        "outputId": "88279ca5-be95-47b1-e019-726e5f78a951"
      },
      "source": [
        "pos=0\n",
        "neu=0\n",
        "neg=0\n",
        "#printing line by line \n",
        "for tweet in tweet_data:\n",
        "    #print(tweet.text)\n",
        "    #time.sleep(2)\n",
        "    analysis=TextBlob(tweet.text)  #here it will apply nlp\n",
        "    print(analysis.sentiment)\n",
        "    #now checking polarity only\n",
        "    if analysis.sentiment.polarity > 0 :\n",
        "          print(\"positive\")\n",
        "          pos=pos+1\n",
        "    elif analysis.sentiment.polarity ==0 :\n",
        "         print(\"neutral\")\n",
        "         neu=neu+1\n",
        "    else :\n",
        "        print(\"negative\")\n",
        "        neg=neg+1\n",
        "            \n",
        "            \n",
        "#ploting graphs\n",
        "plt.xlabel(\"tags\")\n",
        "plt.ylabel(\"polarity\")\n",
        "plt.bar(['pos','neg','neu'],[pos,neg,neu])\n",
        "plt.pie([pos,neg,neu],labels=[\"pos\",\"neg\",\"neu\"],autopct=\"%1.ff%%\")\n",
        "plt.show()"
      ],
      "execution_count": 10,
      "outputs": [
        {
          "output_type": "stream",
          "text": [
            "Sentiment(polarity=0.5, subjectivity=0.6)\n",
            "positive\n",
            "Sentiment(polarity=0.2, subjectivity=0.2)\n",
            "positive\n",
            "Sentiment(polarity=0.0, subjectivity=0.0)\n",
            "neutral\n",
            "Sentiment(polarity=0.15, subjectivity=0.275)\n",
            "positive\n",
            "Sentiment(polarity=0.5, subjectivity=1.0)\n",
            "positive\n",
            "Sentiment(polarity=0.7, subjectivity=0.6000000000000001)\n",
            "positive\n",
            "Sentiment(polarity=0.78125, subjectivity=0.5)\n",
            "positive\n",
            "Sentiment(polarity=0.0, subjectivity=0.0)\n",
            "neutral\n",
            "Sentiment(polarity=0.0, subjectivity=0.0)\n",
            "neutral\n",
            "Sentiment(polarity=0.0, subjectivity=0.0)\n",
            "neutral\n",
            "Sentiment(polarity=0.25393939393939396, subjectivity=0.5042424242424243)\n",
            "positive\n",
            "Sentiment(polarity=0.06818181818181818, subjectivity=0.7272727272727273)\n",
            "positive\n",
            "Sentiment(polarity=0.0, subjectivity=0.0)\n",
            "neutral\n",
            "Sentiment(polarity=0.24002525252525253, subjectivity=0.495959595959596)\n",
            "positive\n",
            "Sentiment(polarity=0.0, subjectivity=0.75)\n",
            "neutral\n",
            "Sentiment(polarity=0.0, subjectivity=0.0)\n",
            "neutral\n",
            "Sentiment(polarity=0.45, subjectivity=0.625)\n",
            "positive\n"
          ],
          "name": "stdout"
        },
        {
          "output_type": "display_data",
          "data": {
            "image/png": "[encoded data removed]",
            "text/plain": [
              "<Figure size 432x288 with 1 Axes>"
            ]
          },
          "metadata": {
            "tags": []
          }
        }
      ]
    },
    {
      "cell_type": "code",
      "metadata": {
        "id": "9gsYcKi1JuEK",
        "colab_type": "code",
        "colab": {}
      },
      "source": [
        ""
      ],
      "execution_count": 0,
      "outputs": []
    }
  ]
}