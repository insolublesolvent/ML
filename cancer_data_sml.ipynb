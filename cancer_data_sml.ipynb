{
  "nbformat": 4,
  "nbformat_minor": 0,
  "metadata": {
    "colab": {
      "name": "cancer-data_sml.ipynb",
      "version": "0.3.2",
      "provenance": [],
      "include_colab_link": true
    },
    "kernelspec": {
      "name": "python3",
      "display_name": "Python 3"
    }
  },
  "cells": [
    {
      "cell_type": "markdown",
      "metadata": {
        "id": "view-in-github",
        "colab_type": "text"
      },
      "source": [
        "<a href=\"https://colab.research.google.com/github/insolublesolvent/ML/blob/data_processing/cancer_data_sml.ipynb\" target=\"_parent\"><img src=\"https://colab.research.google.com/assets/colab-badge.svg\" alt=\"Open In Colab\"/></a>"
      ]
    },
    {
      "cell_type": "code",
      "metadata": {
        "id": "Mkc6_kW4ay-E",
        "colab_type": "code",
        "colab": {}
      },
      "source": [
        "from sklearn import datasets\n",
        "from sklearn.model_selection import train_test_split\n",
        "from sklearn.metrics import accuracy_score\n",
        "from sklearn.tree import DecisionTreeClassifier as DTC"
      ],
      "execution_count": 0,
      "outputs": []
    },
    {
      "cell_type": "code",
      "metadata": {
        "id": "ppy2tWmla9z8",
        "colab_type": "code",
        "colab": {
          "base_uri": "https://localhost:8080/",
          "height": 54
        },
        "outputId": "82a9dae9-d20c-4081-8cb3-1ae5dfd98a69"
      },
      "source": [
        "# Loading some datasets from sklearn\n",
        "a=[i for i in dir(datasets) if \"load\" in i ]\n",
        "print(a)"
      ],
      "execution_count": 2,
      "outputs": [
        {
          "output_type": "stream",
          "text": [
            "['__loader__', 'load_boston', 'load_breast_cancer', 'load_diabetes', 'load_digits', 'load_files', 'load_iris', 'load_linnerud', 'load_sample_image', 'load_sample_images', 'load_svmlight_file', 'load_svmlight_files', 'load_wine']\n"
          ],
          "name": "stdout"
        }
      ]
    },
    {
      "cell_type": "code",
      "metadata": {
        "id": "UHov65aRbCbe",
        "colab_type": "code",
        "colab": {
          "base_uri": "https://localhost:8080/",
          "height": 34
        },
        "outputId": "6cb42e29-4827-4c58-9ea7-4e18e4ecc9ed"
      },
      "source": [
        "# Loading Breast cancer dataset\n",
        "cancer=datasets.load_breast_cancer()\n",
        "dir(cancer)"
      ],
      "execution_count": 3,
      "outputs": [
        {
          "output_type": "execute_result",
          "data": {
            "text/plain": [
              "['DESCR', 'data', 'feature_names', 'filename', 'target', 'target_names']"
            ]
          },
          "metadata": {
            "tags": []
          },
          "execution_count": 3
        }
      ]
    },
    {
      "cell_type": "code",
      "metadata": {
        "id": "HCeWhHuEbEsA",
        "colab_type": "code",
        "colab": {}
      },
      "source": [
        "# Loading features or data \n",
        "features=cancer.data\n",
        "# Labelling Answers to features \n",
        "label=cancer.target"
      ],
      "execution_count": 0,
      "outputs": []
    },
    {
      "cell_type": "code",
      "metadata": {
        "id": "pbt0CT5LbLPw",
        "colab_type": "code",
        "colab": {}
      },
      "source": [
        " #Splitting training and testing data\n",
        "# In which taking only 10% of training data as testing data\n",
        "train_data,test_data,train_label,test_label=train_test_split(features,label,test_size=0.1)"
      ],
      "execution_count": 0,
      "outputs": []
    },
    {
      "cell_type": "code",
      "metadata": {
        "id": "lwXoDulkbMij",
        "colab_type": "code",
        "colab": {}
      },
      "source": [
        "# Calling decision tree classifier\n",
        "clf=DTC()\n",
        "# Fitting training data\n",
        "trained=clf.fit(train_data,train_label)"
      ],
      "execution_count": 0,
      "outputs": []
    },
    {
      "cell_type": "code",
      "metadata": {
        "id": "ikZkuaDCbQ_6",
        "colab_type": "code",
        "colab": {
          "base_uri": "https://localhost:8080/",
          "height": 70
        },
        "outputId": "a6ae4130-f846-4a1e-93e3-c464bd1af3e6"
      },
      "source": [
        "# Predicted answer from testing data\n",
        "predicted_answer=trained.predict(test_data)\n",
        "print(predicted_answer)\n",
        "# Here \"1\" is malignant cancer and \"0\" is benign cancer\n",
        "#print(test_label)\n",
        "# Printing Accuracy score b/w actual answer and predicted answer\n",
        "print(accuracy_score(test_label,predicted_answer)*100)"
      ],
      "execution_count": 7,
      "outputs": [
        {
          "output_type": "stream",
          "text": [
            "[1 1 0 1 1 0 0 0 0 1 0 1 1 1 1 1 1 1 1 1 0 0 0 0 1 1 1 1 1 1 0 1 1 0 1 1 1\n",
            " 0 0 1 1 1 1 0 1 1 0 1 0 0 0 1 0 0 0 0 1]\n",
            "91.22807017543859\n"
          ],
          "name": "stdout"
        }
      ]
    },
    {
      "cell_type": "code",
      "metadata": {
        "id": "7mMqibghbTkh",
        "colab_type": "code",
        "colab": {}
      },
      "source": [
        ""
      ],
      "execution_count": 0,
      "outputs": []
    }
  ]
}